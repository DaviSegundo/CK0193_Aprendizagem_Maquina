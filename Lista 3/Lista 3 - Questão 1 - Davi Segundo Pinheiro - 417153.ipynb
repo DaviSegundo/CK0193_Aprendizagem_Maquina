{
 "cells": [
  {
   "cell_type": "code",
   "execution_count": 1,
   "id": "3f090422",
   "metadata": {},
   "outputs": [],
   "source": [
    "import numpy as np\n",
    "import pandas as pd\n",
    "import tensorflow as tf\n",
    "import matplotlib.pyplot as plt\n",
    "\n",
    "from tensorflow import keras\n",
    "from tensorflow.keras import layers\n",
    "from sklearn.preprocessing import StandardScaler\n",
    "from sklearn.model_selection import train_test_split"
   ]
  },
  {
   "cell_type": "markdown",
   "id": "c6298e11",
   "metadata": {},
   "source": [
    "## Regressão"
   ]
  },
  {
   "cell_type": "markdown",
   "id": "96fc07dd",
   "metadata": {},
   "source": [
    "### Leitura e Modelagem dos Dados"
   ]
  },
  {
   "cell_type": "code",
   "execution_count": 2,
   "id": "1d8a67c0",
   "metadata": {},
   "outputs": [
    {
     "data": {
      "text/plain": [
       "array([[ 540.  ,    0.  ,    0.  ,  162.  ,    2.5 , 1040.  ,  676.  ,\n",
       "          28.  ,   79.99],\n",
       "       [ 540.  ,    0.  ,    0.  ,  162.  ,    2.5 , 1055.  ,  676.  ,\n",
       "          28.  ,   61.89],\n",
       "       [ 332.5 ,  142.5 ,    0.  ,  228.  ,    0.  ,  932.  ,  594.  ,\n",
       "         270.  ,   40.27],\n",
       "       [ 332.5 ,  142.5 ,    0.  ,  228.  ,    0.  ,  932.  ,  594.  ,\n",
       "         365.  ,   41.05],\n",
       "       [ 198.6 ,  132.4 ,    0.  ,  192.  ,    0.  ,  978.4 ,  825.5 ,\n",
       "         360.  ,   44.3 ]])"
      ]
     },
     "execution_count": 2,
     "metadata": {},
     "output_type": "execute_result"
    }
   ],
   "source": [
    "# Leitura dos dados\n",
    "dados = np.genfromtxt('./concrete.csv', delimiter=',')\n",
    "\n",
    "# 5 primeiros dados do arquivo\n",
    "dados[:5]"
   ]
  },
  {
   "cell_type": "code",
   "execution_count": 3,
   "id": "ca8f5e59",
   "metadata": {},
   "outputs": [
    {
     "data": {
      "text/plain": [
       "(1030, 9)"
      ]
     },
     "execution_count": 3,
     "metadata": {},
     "output_type": "execute_result"
    }
   ],
   "source": [
    "# Formato total dos nossos dados\n",
    "dados.shape"
   ]
  },
  {
   "cell_type": "markdown",
   "id": "4bbd7db5",
   "metadata": {},
   "source": [
    "#### Preparando as entradas do Modelo"
   ]
  },
  {
   "cell_type": "code",
   "execution_count": 4,
   "id": "6492d8b9",
   "metadata": {},
   "outputs": [
    {
     "name": "stdout",
     "output_type": "stream",
     "text": [
      "(824, 9)\n",
      "(206, 9)\n"
     ]
    }
   ],
   "source": [
    "# Separação dos conjuntos de treino e teste\n",
    "# 80%, 20%\n",
    "\n",
    "# A validação será usada\n",
    "\n",
    "train_df, test_df = train_test_split(dados, test_size=0.2)\n",
    "\n",
    "print(f\"{train_df.shape}\\n{test_df.shape}\")"
   ]
  },
  {
   "cell_type": "code",
   "execution_count": 5,
   "id": "159fe499",
   "metadata": {},
   "outputs": [],
   "source": [
    "# Separação das features de cada um dos df\n",
    "train_features = train_df[:,:-1]\n",
    "test_features = test_df[:,:-1]\n",
    "\n",
    "train_labels = train_df[:,[-1]]\n",
    "test_labels = test_df[:,[-1]]"
   ]
  },
  {
   "cell_type": "code",
   "execution_count": 6,
   "id": "e6a8c8c9",
   "metadata": {},
   "outputs": [],
   "source": [
    "scaler = StandardScaler()\n",
    "\n",
    "normed_train_data = scaler.fit_transform(train_features)\n",
    "normed_test_data = scaler.transform(test_features)"
   ]
  },
  {
   "cell_type": "markdown",
   "id": "f156a841",
   "metadata": {},
   "source": [
    "### Construção do Modelo"
   ]
  },
  {
   "cell_type": "code",
   "execution_count": 7,
   "id": "4b5a0f36",
   "metadata": {},
   "outputs": [],
   "source": [
    "model = keras.Sequential([\n",
    "    layers.Dense(256, activation='relu', input_shape=[train_features.shape[1]]),\n",
    "    layers.Dropout(0.2),\n",
    "    layers.Dense(64, activation='relu'),\n",
    "    layers.Dropout(0.2),\n",
    "    layers.Dense(1)\n",
    "])\n",
    "\n",
    "# Otimização via gradiente descendente estocástico\n",
    "optimizer = tf.keras.optimizers.SGD(0.001)\n",
    "\n",
    "model.compile(loss='mse',\n",
    "              optimizer=optimizer,\n",
    "              metrics=[tf.keras.metrics.RootMeanSquaredError(), 'mae', 'mse'])"
   ]
  },
  {
   "cell_type": "markdown",
   "id": "5ef41aa6",
   "metadata": {},
   "source": [
    "#### Detalhes Gerais"
   ]
  },
  {
   "cell_type": "code",
   "execution_count": 8,
   "id": "40e0de23",
   "metadata": {},
   "outputs": [
    {
     "name": "stdout",
     "output_type": "stream",
     "text": [
      "Model: \"sequential\"\n",
      "_________________________________________________________________\n",
      "Layer (type)                 Output Shape              Param #   \n",
      "=================================================================\n",
      "dense (Dense)                (None, 256)               2304      \n",
      "_________________________________________________________________\n",
      "dropout (Dropout)            (None, 256)               0         \n",
      "_________________________________________________________________\n",
      "dense_1 (Dense)              (None, 64)                16448     \n",
      "_________________________________________________________________\n",
      "dropout_1 (Dropout)          (None, 64)                0         \n",
      "_________________________________________________________________\n",
      "dense_2 (Dense)              (None, 1)                 65        \n",
      "=================================================================\n",
      "Total params: 18,817\n",
      "Trainable params: 18,817\n",
      "Non-trainable params: 0\n",
      "_________________________________________________________________\n"
     ]
    }
   ],
   "source": [
    "model.summary()"
   ]
  },
  {
   "cell_type": "markdown",
   "id": "26b6a5dc",
   "metadata": {},
   "source": [
    "#### Treinamento"
   ]
  },
  {
   "cell_type": "code",
   "execution_count": 9,
   "id": "feb4f3aa",
   "metadata": {},
   "outputs": [],
   "source": [
    "EPOCHS = 1000\n",
    "\n",
    "# Minibatch de 32\n",
    "# Validação de 20% do total de dados\n",
    "historico = model.fit(normed_train_data, train_labels,\n",
    "                      epochs=EPOCHS, verbose=0, validation_split = 0.25, batch_size=32)"
   ]
  },
  {
   "cell_type": "markdown",
   "id": "673d3a1d",
   "metadata": {},
   "source": [
    "### Métricas Gerais"
   ]
  },
  {
   "cell_type": "code",
   "execution_count": 10,
   "id": "97352c29",
   "metadata": {},
   "outputs": [
    {
     "data": {
      "text/html": [
       "<div>\n",
       "<style scoped>\n",
       "    .dataframe tbody tr th:only-of-type {\n",
       "        vertical-align: middle;\n",
       "    }\n",
       "\n",
       "    .dataframe tbody tr th {\n",
       "        vertical-align: top;\n",
       "    }\n",
       "\n",
       "    .dataframe thead th {\n",
       "        text-align: right;\n",
       "    }\n",
       "</style>\n",
       "<table border=\"1\" class=\"dataframe\">\n",
       "  <thead>\n",
       "    <tr style=\"text-align: right;\">\n",
       "      <th></th>\n",
       "      <th>loss</th>\n",
       "      <th>root_mean_squared_error</th>\n",
       "      <th>mae</th>\n",
       "      <th>mse</th>\n",
       "      <th>val_loss</th>\n",
       "      <th>val_root_mean_squared_error</th>\n",
       "      <th>val_mae</th>\n",
       "      <th>val_mse</th>\n",
       "      <th>epoch</th>\n",
       "    </tr>\n",
       "  </thead>\n",
       "  <tbody>\n",
       "    <tr>\n",
       "      <th>995</th>\n",
       "      <td>19.696222</td>\n",
       "      <td>4.438043</td>\n",
       "      <td>3.322072</td>\n",
       "      <td>19.696222</td>\n",
       "      <td>30.252171</td>\n",
       "      <td>5.500197</td>\n",
       "      <td>3.673557</td>\n",
       "      <td>30.252171</td>\n",
       "      <td>996</td>\n",
       "    </tr>\n",
       "    <tr>\n",
       "      <th>996</th>\n",
       "      <td>18.757090</td>\n",
       "      <td>4.330945</td>\n",
       "      <td>3.191608</td>\n",
       "      <td>18.757090</td>\n",
       "      <td>28.801741</td>\n",
       "      <td>5.366725</td>\n",
       "      <td>3.576053</td>\n",
       "      <td>28.801741</td>\n",
       "      <td>997</td>\n",
       "    </tr>\n",
       "    <tr>\n",
       "      <th>997</th>\n",
       "      <td>20.360912</td>\n",
       "      <td>4.512307</td>\n",
       "      <td>3.350277</td>\n",
       "      <td>20.360912</td>\n",
       "      <td>30.892452</td>\n",
       "      <td>5.558098</td>\n",
       "      <td>3.750254</td>\n",
       "      <td>30.892452</td>\n",
       "      <td>998</td>\n",
       "    </tr>\n",
       "    <tr>\n",
       "      <th>998</th>\n",
       "      <td>23.010344</td>\n",
       "      <td>4.796910</td>\n",
       "      <td>3.451151</td>\n",
       "      <td>23.010344</td>\n",
       "      <td>56.279819</td>\n",
       "      <td>7.501988</td>\n",
       "      <td>5.131626</td>\n",
       "      <td>56.279819</td>\n",
       "      <td>999</td>\n",
       "    </tr>\n",
       "    <tr>\n",
       "      <th>999</th>\n",
       "      <td>22.690960</td>\n",
       "      <td>4.763503</td>\n",
       "      <td>3.479773</td>\n",
       "      <td>22.690960</td>\n",
       "      <td>33.191742</td>\n",
       "      <td>5.761228</td>\n",
       "      <td>3.894716</td>\n",
       "      <td>33.191742</td>\n",
       "      <td>1000</td>\n",
       "    </tr>\n",
       "  </tbody>\n",
       "</table>\n",
       "</div>"
      ],
      "text/plain": [
       "          loss  root_mean_squared_error       mae        mse   val_loss  \\\n",
       "995  19.696222                 4.438043  3.322072  19.696222  30.252171   \n",
       "996  18.757090                 4.330945  3.191608  18.757090  28.801741   \n",
       "997  20.360912                 4.512307  3.350277  20.360912  30.892452   \n",
       "998  23.010344                 4.796910  3.451151  23.010344  56.279819   \n",
       "999  22.690960                 4.763503  3.479773  22.690960  33.191742   \n",
       "\n",
       "     val_root_mean_squared_error   val_mae    val_mse  epoch  \n",
       "995                     5.500197  3.673557  30.252171    996  \n",
       "996                     5.366725  3.576053  28.801741    997  \n",
       "997                     5.558098  3.750254  30.892452    998  \n",
       "998                     7.501988  5.131626  56.279819    999  \n",
       "999                     5.761228  3.894716  33.191742   1000  "
      ]
     },
     "execution_count": 10,
     "metadata": {},
     "output_type": "execute_result"
    }
   ],
   "source": [
    "hist = pd.DataFrame(historico.history)\n",
    "hist['epoch'] = historico.epoch\n",
    "hist['epoch'] = hist['epoch'] + 1\n",
    "hist.tail()"
   ]
  },
  {
   "cell_type": "code",
   "execution_count": 11,
   "id": "7f12237c",
   "metadata": {},
   "outputs": [
    {
     "data": {
      "image/png": "[encoded data removed]",
      "text/plain": [
       "<Figure size 864x576 with 1 Axes>"
      ]
     },
     "metadata": {
      "needs_background": "light"
     },
     "output_type": "display_data"
    }
   ],
   "source": [
    "plt.figure(figsize=(12,8))\n",
    "plt.plot(hist['epoch'], hist['loss'], label='Loss Train')\n",
    "plt.plot(hist['epoch'], hist['val_loss'], label='Loss Validation')\n",
    "plt.title('Curva da Função Custo', size=25)\n",
    "plt.xlabel('Epoch')\n",
    "plt.ylabel('Loss Curve')\n",
    "plt.ylim([0,300])\n",
    "plt.legend();"
   ]
  },
  {
   "cell_type": "code",
   "execution_count": 12,
   "id": "ba09df3c",
   "metadata": {},
   "outputs": [
    {
     "name": "stdout",
     "output_type": "stream",
     "text": [
      "Testing set RMSE:  4.83\n",
      "Testing set MAE:  3.45\n",
      "Testing set MSE: 23.30\n"
     ]
    }
   ],
   "source": [
    "loss, rmse, mae, mse = model.evaluate(normed_test_data, test_labels, verbose=3)\n",
    "\n",
    "print(\"Testing set RMSE: {:5.2f}\".format(rmse))\n",
    "print(\"Testing set MAE: {:5.2f}\".format(mae))\n",
    "print(\"Testing set MSE: {:5.2f}\".format(mse))"
   ]
  },
  {
   "cell_type": "code",
   "execution_count": 13,
   "id": "8ea81dd3",
   "metadata": {},
   "outputs": [
    {
     "data": {
      "image/png": "[encoded data removed]",
      "text/plain": [
       "<Figure size 720x720 with 1 Axes>"
      ]
     },
     "metadata": {
      "needs_background": "light"
     },
     "output_type": "display_data"
    }
   ],
   "source": [
    "test_predictions = model.predict(normed_test_data).flatten()\n",
    "\n",
    "plt.figure(figsize=(10,10))\n",
    "plt.scatter(test_labels, test_predictions)\n",
    "plt.xlabel('True Values')\n",
    "plt.ylabel('Predictions')\n",
    "plt.axis('equal')\n",
    "plt.axis('square')\n",
    "plt.xlim([0,plt.xlim()[1]])\n",
    "plt.ylim([0,plt.ylim()[1]])\n",
    "plt.plot([-100, 100], [-100, 100]);"
   ]
  }
 ],
 "metadata": {
  "kernelspec": {
   "display_name": "Python 3",
   "language": "python",
   "name": "python3"
  },
  "language_info": {
   "codemirror_mode": {
    "name": "ipython",
    "version": 3
   },
   "file_extension": ".py",
   "mimetype": "text/x-python",
   "name": "python",
   "nbconvert_exporter": "python",
   "pygments_lexer": "ipython3",
   "version": "3.8.8"
  }
 },
 "nbformat": 4,
 "nbformat_minor": 5
}
