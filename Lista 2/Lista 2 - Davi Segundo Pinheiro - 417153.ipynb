{
 "cells": [
  {
   "cell_type": "markdown",
   "metadata": {},
   "source": [
    "## Aluno: Davi Segundo Pinheiro - 417153"
   ]
  },
  {
   "cell_type": "markdown",
   "metadata": {},
   "source": [
    "### Libs utilizadas na Lista 2"
   ]
  },
  {
   "cell_type": "code",
   "execution_count": 1,
   "metadata": {},
   "outputs": [],
   "source": [
    "import pandas as pd\n",
    "import numpy as np\n",
    "import matplotlib.pyplot as plt\n",
    "from sklearn.model_selection import KFold\n",
    "from sklearn.tree import DecisionTreeClassifier\n",
    "from sklearn.metrics import accuracy_score, f1_score, precision_score, recall_score"
   ]
  },
  {
   "cell_type": "markdown",
   "metadata": {},
   "source": [
    "### Carregando os Dados"
   ]
  },
  {
   "cell_type": "code",
   "execution_count": 2,
   "metadata": {},
   "outputs": [
    {
     "data": {
      "text/plain": [
       "array([[1.799e+01, 1.038e+01, 1.228e+02, 1.001e+03, 1.184e-01, 2.776e-01,\n",
       "        3.001e-01, 1.471e-01, 2.419e-01, 7.871e-02, 1.095e+00, 9.053e-01,\n",
       "        8.589e+00, 1.534e+02, 6.399e-03, 4.904e-02, 5.373e-02, 1.587e-02,\n",
       "        3.003e-02, 6.193e-03, 2.538e+01, 1.733e+01, 1.846e+02, 2.019e+03,\n",
       "        1.622e-01, 6.656e-01, 7.119e-01, 2.654e-01, 4.601e-01, 1.189e-01,\n",
       "        0.000e+00],\n",
       "       [2.057e+01, 1.777e+01, 1.329e+02, 1.326e+03, 8.474e-02, 7.864e-02,\n",
       "        8.690e-02, 7.017e-02, 1.812e-01, 5.667e-02, 5.435e-01, 7.339e-01,\n",
       "        3.398e+00, 7.408e+01, 5.225e-03, 1.308e-02, 1.860e-02, 1.340e-02,\n",
       "        1.389e-02, 3.532e-03, 2.499e+01, 2.341e+01, 1.588e+02, 1.956e+03,\n",
       "        1.238e-01, 1.866e-01, 2.416e-01, 1.860e-01, 2.750e-01, 8.902e-02,\n",
       "        0.000e+00]])"
      ]
     },
     "execution_count": 2,
     "metadata": {},
     "output_type": "execute_result"
    }
   ],
   "source": [
    "# Leitura dos dados\n",
    "dados = np.genfromtxt('./breastcancer.csv', delimiter=',')\n",
    "\n",
    "# 2 primeiros dados do arquivo\n",
    "dados[:2]"
   ]
  },
  {
   "cell_type": "code",
   "execution_count": 3,
   "metadata": {},
   "outputs": [
    {
     "data": {
      "text/plain": [
       "(569, 31)"
      ]
     },
     "execution_count": 3,
     "metadata": {},
     "output_type": "execute_result"
    }
   ],
   "source": [
    "# Formato total dos nossos dados\n",
    "dados.shape"
   ]
  },
  {
   "cell_type": "markdown",
   "metadata": {},
   "source": [
    "### Funções Auxiliares"
   ]
  },
  {
   "cell_type": "code",
   "execution_count": 4,
   "metadata": {},
   "outputs": [],
   "source": [
    "# Escalona os dados de X do treino e do teste\n",
    "def escalona(x_train, x_teste):    \n",
    "    x_escalado_treino = x_train\n",
    "    x_media = x_escalado_treino.mean(axis=0)\n",
    "    x_desvio = x_escalado_treino.std(axis=0)\n",
    "    x_escalado_treino = (x_escalado_treino - x_media) / x_desvio\n",
    "    x_treino = np.c_[np.ones(x_escalado_treino.shape[0]), x_escalado_treino]\n",
    "    \n",
    "    x_escalado_teste = x_test\n",
    "    x_escalado_teste = (x_escalado_teste - x_media) / x_desvio\n",
    "    x_teste = np.c_[np.ones(x_escalado_teste.shape[0]), x_escalado_teste]\n",
    "    \n",
    "    return x_treino, x_teste\n",
    "\n",
    "# Calula as métricas a partir das funções de cada uma que foram implementadas a abaixo\n",
    "def calcular_metricas(y_teste, pred):\n",
    "    accuracy = acuracia(y_teste, pred) * 100\n",
    "    recall = revocacao(y_teste, pred) * 100\n",
    "    precision = precisao(y_teste, pred) * 100\n",
    "    f1 = f1score(recall/100, precision/100) * 100\n",
    "    \n",
    "    print(f\"Accuracy: {accuracy:.2f}%\")\n",
    "    print(f\"Recall: {recall:.2f}%\")\n",
    "    print(f\"Precision: {precision:.2f}%\")\n",
    "    print(f\"F1-Score: {f1:.2f}%\\n\")\n",
    "    \n",
    "    return accuracy, recall, precision, f1\n",
    "\n",
    "# Calcula as medias de cada métrica\n",
    "def calcular_medias(accuracy_list, recall_list, precision_list, f1_score_list):\n",
    "    accuracy_list = np.array(accuracy_list)\n",
    "    recall_list = np.array(recall_list)\n",
    "    precision_list = np.array(precision_list)\n",
    "    f1_score_list = np.array(f1_score_list)\n",
    "\n",
    "    # Accuracy\n",
    "    media_accuracy = accuracy_list.mean()\n",
    "    std_accuracy = accuracy_list.std()\n",
    "    print(f\"Média Accuracy:  {media_accuracy:.2f}%\")\n",
    "    print(f\"Desvio Accuracy: {std_accuracy:.2f}%\\n\")\n",
    "\n",
    "    # Recall\n",
    "    media_recall = recall_list.mean()\n",
    "    std_recall = recall_list.std()\n",
    "    print(f\"Média Recall:  {media_recall:.2f}%\")\n",
    "    print(f\"Desvio Recall: {std_recall:.2f}%\\n\")\n",
    "\n",
    "    # Precision\n",
    "    media_precision = precision_list.mean()\n",
    "    std_precision = precision_list.std()\n",
    "    print(f\"Média Precision:  {media_precision:.2f}%\")\n",
    "    print(f\"Desvio Precision: {std_precision:.2f}%\\n\")\n",
    "\n",
    "    # F1_Score\n",
    "    media_f1_score = f1_score_list.mean()\n",
    "    std_f1_score = f1_score_list.std()\n",
    "    print(f\"Média F1_Score:  {media_f1_score:.2f}%\")\n",
    "    print(f\"Desvio F1_Score: {std_f1_score:.2f}%\\n\")"
   ]
  },
  {
   "cell_type": "markdown",
   "metadata": {},
   "source": [
    "### Função Sigmoid para classificação"
   ]
  },
  {
   "cell_type": "code",
   "execution_count": 5,
   "metadata": {},
   "outputs": [],
   "source": [
    "# Definição da função Sigmoid que vai ajustar nosso modelo de classificação\n",
    "def sigmoid(z):\n",
    "    sig = 1/(1+np.exp(-z))\n",
    "    return sig"
   ]
  },
  {
   "cell_type": "markdown",
   "metadata": {},
   "source": [
    "### Funções para calcular as métricas"
   ]
  },
  {
   "cell_type": "code",
   "execution_count": 6,
   "metadata": {},
   "outputs": [],
   "source": [
    "def acuracia(y, y_pred):\n",
    "    acertos = (y == y_pred).sum()\n",
    "    taxa_acerto = (acertos / y.shape[0])\n",
    "    return taxa_acerto\n",
    "\n",
    "def revocacao(y, y_pred):\n",
    "    verdadeiros_positivos = np.argwhere((y == 1) & (y_pred == 1))[:, 0]\n",
    "    falsos_negativos = np.argwhere((y == 1) & (y_pred == 0))[:, 0]\n",
    "    revoc = (len(verdadeiros_positivos)/(len(verdadeiros_positivos) + len(falsos_negativos)))\n",
    "    return revoc\n",
    "\n",
    "def precisao(y, y_pred):\n",
    "    verdadeiros_positivos = np.argwhere((y == 1) & (y_pred == 1))[:, 0]\n",
    "    falsos_positivos = np.argwhere((y == 0) & (y_pred == 1))[:, 0]\n",
    "    precision = (len(verdadeiros_positivos)/(len(verdadeiros_positivos) + len(falsos_positivos)))\n",
    "    return precision\n",
    "\n",
    "def f1score(revoc, precision):\n",
    "    f1 = (2 * ((revoc*precision)/(revoc+precision)))\n",
    "    return f1"
   ]
  },
  {
   "cell_type": "markdown",
   "metadata": {},
   "source": [
    "### KFold de 10 splits & Separação do X e y"
   ]
  },
  {
   "cell_type": "code",
   "execution_count": 7,
   "metadata": {},
   "outputs": [],
   "source": [
    "np.random.seed(42)\n",
    "\n",
    "# Criando um KFold de 10 splits com shuffle\n",
    "kf = KFold(n_splits=10, shuffle=True)\n",
    "\n",
    "# Separação X e y\n",
    "x = dados[:,:-1]\n",
    "y = dados[:,[-1]]"
   ]
  },
  {
   "cell_type": "markdown",
   "metadata": {},
   "source": [
    "### Regressão Logística (Treinado com GD)"
   ]
  },
  {
   "cell_type": "code",
   "execution_count": 8,
   "metadata": {
    "scrolled": true
   },
   "outputs": [
    {
     "name": "stdout",
     "output_type": "stream",
     "text": [
      "----- Fold 1 -----\n",
      "Accuracy: 98.25%\n",
      "Recall: 100.00%\n",
      "Precision: 97.56%\n",
      "F1-Score: 98.77%\n",
      "\n",
      "----- Fold 2 -----\n",
      "Accuracy: 100.00%\n",
      "Recall: 100.00%\n",
      "Precision: 100.00%\n",
      "F1-Score: 100.00%\n",
      "\n",
      "----- Fold 3 -----\n",
      "Accuracy: 100.00%\n",
      "Recall: 100.00%\n",
      "Precision: 100.00%\n",
      "F1-Score: 100.00%\n",
      "\n",
      "----- Fold 4 -----\n",
      "Accuracy: 98.25%\n",
      "Recall: 97.50%\n",
      "Precision: 100.00%\n",
      "F1-Score: 98.73%\n",
      "\n",
      "----- Fold 5 -----\n",
      "Accuracy: 98.25%\n",
      "Recall: 100.00%\n",
      "Precision: 97.50%\n",
      "F1-Score: 98.73%\n",
      "\n",
      "----- Fold 6 -----\n",
      "Accuracy: 96.49%\n",
      "Recall: 100.00%\n",
      "Precision: 94.12%\n",
      "F1-Score: 96.97%\n",
      "\n",
      "----- Fold 7 -----\n",
      "Accuracy: 98.25%\n",
      "Recall: 100.00%\n",
      "Precision: 97.56%\n",
      "F1-Score: 98.77%\n",
      "\n",
      "----- Fold 8 -----\n",
      "Accuracy: 96.49%\n",
      "Recall: 100.00%\n",
      "Precision: 93.94%\n",
      "F1-Score: 96.87%\n",
      "\n",
      "----- Fold 9 -----\n",
      "Accuracy: 96.49%\n",
      "Recall: 100.00%\n",
      "Precision: 93.75%\n",
      "F1-Score: 96.77%\n",
      "\n",
      "----- Fold 10 -----\n",
      "Accuracy: 96.43%\n",
      "Recall: 97.30%\n",
      "Precision: 97.30%\n",
      "F1-Score: 97.30%\n",
      "\n"
     ]
    }
   ],
   "source": [
    "accuracy_list_rl = list()\n",
    "recall_list_rl = list()\n",
    "precision_list_rl = list()\n",
    "f1_score_list_rl = list()\n",
    "\n",
    "fold = 0\n",
    "\n",
    "for train_index, test_index in kf.split(x):\n",
    "    fold += 1\n",
    "    print(f\"----- Fold {fold} -----\")\n",
    "    x_train, x_test = x[train_index], x[test_index]\n",
    "    y_train, y_test = y[train_index], y[test_index]\n",
    "\n",
    "    x_treino, x_teste = escalona(x_train, x_test)\n",
    "    \n",
    "    y_treino = y_train\n",
    "    y_teste = y_test\n",
    "    \n",
    "    n = x_treino.shape[0]\n",
    "\n",
    "    alpha = 0.1\n",
    "    epocas = 200\n",
    "    \n",
    "    w = np.zeros((x_treino.shape[1], 1))\n",
    "    \n",
    "    mse_lista = list()\n",
    "    \n",
    "    for epoca in range(epocas):\n",
    "        error = y_treino - sigmoid(x_treino @ w)\n",
    "        w += alpha * x_treino.T @ error / n\n",
    "    \n",
    "        mse = np.mean((y_treino - sigmoid(x_treino @ w)) ** 2)\n",
    "        mse_lista.append(mse)\n",
    "        \n",
    "    pred_treino = sigmoid(x_treino @ w)\n",
    "    pred = sigmoid(x_teste @ w)\n",
    "    \n",
    "    pred_treino = np.round(pred_treino)\n",
    "    pred = np.round(pred)\n",
    "    \n",
    "    mse_treino = (np.mean((y_treino - pred_treino)**2))\n",
    "    mse_teste = (np.mean((y_teste - pred)**2))\n",
    "    \n",
    "    accuracy, recall, precision, f1 = calcular_metricas(y_teste, pred)\n",
    "    \n",
    "    accuracy_list_rl.append(accuracy)\n",
    "    recall_list_rl.append(recall)\n",
    "    precision_list_rl.append(precision)\n",
    "    f1_score_list_rl.append(f1)"
   ]
  },
  {
   "cell_type": "markdown",
   "metadata": {},
   "source": [
    "#### Métricas da Regressão Logística"
   ]
  },
  {
   "cell_type": "code",
   "execution_count": 9,
   "metadata": {},
   "outputs": [
    {
     "name": "stdout",
     "output_type": "stream",
     "text": [
      "Média Accuracy:  97.89%\n",
      "Desvio Accuracy: 1.32%\n",
      "\n",
      "Média Recall:  99.48%\n",
      "Desvio Recall: 1.04%\n",
      "\n",
      "Média Precision:  97.17%\n",
      "Desvio Precision: 2.36%\n",
      "\n",
      "Média F1_Score:  98.29%\n",
      "Desvio F1_Score: 1.17%\n",
      "\n"
     ]
    }
   ],
   "source": [
    "calcular_medias(accuracy_list_rl, \n",
    "                recall_list_rl, \n",
    "                precision_list_rl, \n",
    "                f1_score_list_rl)"
   ]
  },
  {
   "cell_type": "code",
   "execution_count": 10,
   "metadata": {},
   "outputs": [
    {
     "data": {
      "image/png": "[encoded data removed]",
      "text/plain": [
       "<Figure size 720x432 with 1 Axes>"
      ]
     },
     "metadata": {
      "needs_background": "light"
     },
     "output_type": "display_data"
    }
   ],
   "source": [
    "plt.figure(figsize=(10,6))\n",
    "plt.plot(mse_lista)\n",
    "plt.ylabel(\"MSE\")\n",
    "plt.xlabel(\"N_Iterações\")\n",
    "plt.title(\"Treinamento usando GD\");"
   ]
  },
  {
   "cell_type": "markdown",
   "metadata": {},
   "source": [
    "### KNN ( $K = 3$ e $distância =  Euclidiana$ )"
   ]
  },
  {
   "cell_type": "code",
   "execution_count": 11,
   "metadata": {
    "scrolled": true
   },
   "outputs": [
    {
     "name": "stdout",
     "output_type": "stream",
     "text": [
      "----- Fold 1 -----\n",
      "Accuracy: 92.98%\n",
      "Recall: 95.00%\n",
      "Precision: 95.00%\n",
      "F1-Score: 95.00%\n",
      "\n",
      "----- Fold 2 -----\n",
      "Accuracy: 98.25%\n",
      "Recall: 100.00%\n",
      "Precision: 96.88%\n",
      "F1-Score: 98.41%\n",
      "\n",
      "----- Fold 3 -----\n",
      "Accuracy: 98.25%\n",
      "Recall: 100.00%\n",
      "Precision: 97.37%\n",
      "F1-Score: 98.67%\n",
      "\n",
      "----- Fold 4 -----\n",
      "Accuracy: 98.25%\n",
      "Recall: 100.00%\n",
      "Precision: 97.56%\n",
      "F1-Score: 98.77%\n",
      "\n",
      "----- Fold 5 -----\n",
      "Accuracy: 96.49%\n",
      "Recall: 100.00%\n",
      "Precision: 95.12%\n",
      "F1-Score: 97.50%\n",
      "\n",
      "----- Fold 6 -----\n",
      "Accuracy: 94.74%\n",
      "Recall: 100.00%\n",
      "Precision: 91.43%\n",
      "F1-Score: 95.52%\n",
      "\n",
      "----- Fold 7 -----\n",
      "Accuracy: 98.25%\n",
      "Recall: 100.00%\n",
      "Precision: 97.56%\n",
      "F1-Score: 98.77%\n",
      "\n",
      "----- Fold 8 -----\n",
      "Accuracy: 98.25%\n",
      "Recall: 100.00%\n",
      "Precision: 96.88%\n",
      "F1-Score: 98.41%\n",
      "\n",
      "----- Fold 9 -----\n",
      "Accuracy: 94.74%\n",
      "Recall: 96.67%\n",
      "Precision: 93.55%\n",
      "F1-Score: 95.08%\n",
      "\n",
      "----- Fold 10 -----\n",
      "Accuracy: 92.86%\n",
      "Recall: 100.00%\n",
      "Precision: 90.24%\n",
      "F1-Score: 94.87%\n",
      "\n"
     ]
    }
   ],
   "source": [
    "np.random.seed(42)\n",
    "fold = 0\n",
    "\n",
    "accuracy_list_knn = list()\n",
    "recall_list_knn = list()\n",
    "precision_list_knn = list()\n",
    "f1_score_list_knn = list()\n",
    "\n",
    "k_prox = 3\n",
    "\n",
    "for train_index, test_index in kf.split(x):\n",
    "    fold += 1\n",
    "    print(f\"----- Fold {fold} -----\")\n",
    "    x_train, x_test = x[train_index], x[test_index]\n",
    "    y_train, y_test = y[train_index], y[test_index]\n",
    "    \n",
    "    x_treino, x_teste = escalona(x_train, x_test)\n",
    "    \n",
    "    y_treino = y_train\n",
    "    y_teste = y_test\n",
    "    \n",
    "    dist2 = -2 * x_teste @ x_treino.T + (x_teste**2).sum(axis=1, keepdims=True) + (x_treino**2).sum(axis=1)\n",
    "    \n",
    "    vizinhos = np.argsort(dist2, axis=1)\n",
    "    vizinhos = vizinhos[:, :k_prox]\n",
    "    \n",
    "    classes_vizinhos = y_treino[vizinhos]\n",
    "    \n",
    "    pred = classes_vizinhos.mean(axis=1).round()\n",
    "    \n",
    "    accuracy, recall, precision, f1 = calcular_metricas(y_teste, pred)\n",
    "    \n",
    "    accuracy_list_knn.append(accuracy)\n",
    "    recall_list_knn.append(recall)\n",
    "    precision_list_knn.append(precision)\n",
    "    f1_score_list_knn.append(f1)"
   ]
  },
  {
   "cell_type": "markdown",
   "metadata": {},
   "source": [
    "#### Métricas do KNN"
   ]
  },
  {
   "cell_type": "code",
   "execution_count": 12,
   "metadata": {},
   "outputs": [
    {
     "name": "stdout",
     "output_type": "stream",
     "text": [
      "Média Accuracy:  96.30%\n",
      "Desvio Accuracy: 2.16%\n",
      "\n",
      "Média Recall:  99.17%\n",
      "Desvio Recall: 1.71%\n",
      "\n",
      "Média Precision:  95.16%\n",
      "Desvio Precision: 2.51%\n",
      "\n",
      "Média F1_Score:  97.10%\n",
      "Desvio F1_Score: 1.66%\n",
      "\n"
     ]
    }
   ],
   "source": [
    "calcular_medias(accuracy_list_knn, \n",
    "                recall_list_knn, \n",
    "                precision_list_knn, \n",
    "                f1_score_list_knn)"
   ]
  },
  {
   "cell_type": "markdown",
   "metadata": {},
   "source": [
    "### Árvore de Decisão ( $índice de impureza = gini$ )"
   ]
  },
  {
   "cell_type": "code",
   "execution_count": 13,
   "metadata": {
    "scrolled": true
   },
   "outputs": [
    {
     "name": "stdout",
     "output_type": "stream",
     "text": [
      "----- Fold 1 -----\n",
      "Accuracy:  92.98%\n",
      "Recall:    92.50%\n",
      "Precision: 97.37%\n",
      "F1_Score:  94.87%\n",
      "\n",
      "----- Fold 2 -----\n",
      "Accuracy:  92.98%\n",
      "Recall:    90.32%\n",
      "Precision: 96.55%\n",
      "F1_Score:  93.33%\n",
      "\n",
      "----- Fold 3 -----\n",
      "Accuracy:  96.49%\n",
      "Recall:    94.59%\n",
      "Precision: 100.00%\n",
      "F1_Score:  97.22%\n",
      "\n",
      "----- Fold 4 -----\n",
      "Accuracy:  87.72%\n",
      "Recall:    90.00%\n",
      "Precision: 92.31%\n",
      "F1_Score:  91.14%\n",
      "\n",
      "----- Fold 5 -----\n",
      "Accuracy:  91.23%\n",
      "Recall:    94.87%\n",
      "Precision: 92.50%\n",
      "F1_Score:  93.67%\n",
      "\n",
      "----- Fold 6 -----\n",
      "Accuracy:  87.72%\n",
      "Recall:    87.50%\n",
      "Precision: 90.32%\n",
      "F1_Score:  88.89%\n",
      "\n",
      "----- Fold 7 -----\n",
      "Accuracy:  98.25%\n",
      "Recall:    97.50%\n",
      "Precision: 100.00%\n",
      "F1_Score:  98.73%\n",
      "\n",
      "----- Fold 8 -----\n",
      "Accuracy:  96.49%\n",
      "Recall:    96.77%\n",
      "Precision: 96.77%\n",
      "F1_Score:  96.77%\n",
      "\n",
      "----- Fold 9 -----\n",
      "Accuracy:  94.74%\n",
      "Recall:    96.67%\n",
      "Precision: 93.55%\n",
      "F1_Score:  95.08%\n",
      "\n",
      "----- Fold 10 -----\n",
      "Accuracy:  92.86%\n",
      "Recall:    94.59%\n",
      "Precision: 94.59%\n",
      "F1_Score:  94.59%\n",
      "\n"
     ]
    }
   ],
   "source": [
    "np.random.seed(42)\n",
    "fold = 0\n",
    "\n",
    "accuracy_list_decision_tree = list()\n",
    "recall_list_decision_tree = list()\n",
    "precision_list_decision_tree = list()\n",
    "f1_score_list_decision_tree = list()\n",
    "\n",
    "model = DecisionTreeClassifier(criterion='gini')\n",
    "\n",
    "for train_index, test_index in kf.split(x):\n",
    "    fold += 1\n",
    "    print(f\"----- Fold {fold} -----\")\n",
    "    x_train, x_test = x[train_index], x[test_index]\n",
    "    y_train, y_test = y[train_index], y[test_index]\n",
    "    \n",
    "    x_treino, x_teste = escalona(x_train, x_test)\n",
    "    \n",
    "    y_treino = y_train\n",
    "    y_teste = y_test\n",
    "    \n",
    "    # Treino e Predição\n",
    "    model.fit(x_treino, y_treino)\n",
    "    pred = model.predict(x_teste)\n",
    "    \n",
    "    # Métricas\n",
    "    accuracy = accuracy_score(y_teste, pred) * 100\n",
    "    recall = recall_score(y_teste, pred) * 100\n",
    "    precision = precision_score(y_teste, pred) * 100\n",
    "    f1 = f1_score(y_teste, pred) * 100\n",
    "    \n",
    "    accuracy_list_decision_tree.append(accuracy)\n",
    "    recall_list_decision_tree.append(recall)\n",
    "    precision_list_decision_tree.append(precision)\n",
    "    f1_score_list_decision_tree.append(f1)\n",
    "    \n",
    "    print(f\"Accuracy:  {accuracy:.2f}%\")\n",
    "    print(f\"Recall:    {recall:.2f}%\")\n",
    "    print(f\"Precision: {precision:.2f}%\")\n",
    "    print(f\"F1_Score:  {f1:.2f}%\\n\")"
   ]
  },
  {
   "cell_type": "markdown",
   "metadata": {},
   "source": [
    "#### Métricas da Árvore de Decisão"
   ]
  },
  {
   "cell_type": "code",
   "execution_count": 14,
   "metadata": {
    "scrolled": false
   },
   "outputs": [
    {
     "name": "stdout",
     "output_type": "stream",
     "text": [
      "Média Accuracy:  93.15%\n",
      "Desvio Accuracy: 3.37%\n",
      "\n",
      "Média Recall:  93.53%\n",
      "Desvio Recall: 3.17%\n",
      "\n",
      "Média Precision:  95.40%\n",
      "Desvio Precision: 3.12%\n",
      "\n",
      "Média F1_Score:  94.43%\n",
      "Desvio F1_Score: 2.75%\n",
      "\n"
     ]
    }
   ],
   "source": [
    "calcular_medias(accuracy_list_decision_tree, \n",
    "                recall_list_decision_tree, \n",
    "                precision_list_decision_tree, \n",
    "                f1_score_list_decision_tree)"
   ]
  }
 ],
 "metadata": {
  "kernelspec": {
   "display_name": "Python 3",
   "language": "python",
   "name": "python3"
  },
  "language_info": {
   "codemirror_mode": {
    "name": "ipython",
    "version": 3
   },
   "file_extension": ".py",
   "mimetype": "text/x-python",
   "name": "python",
   "nbconvert_exporter": "python",
   "pygments_lexer": "ipython3",
   "version": "3.8.8"
  }
 },
 "nbformat": 4,
 "nbformat_minor": 4
}
