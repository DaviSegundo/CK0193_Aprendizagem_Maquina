{
 "cells": [
  {
   "cell_type": "markdown",
   "id": "3c442a64",
   "metadata": {},
   "source": [
    "## Aluno: Davi Segundo Pinheiro - 417153"
   ]
  },
  {
   "cell_type": "markdown",
   "id": "75dd6d41",
   "metadata": {},
   "source": [
    "### Libs utilizadas na Lista 2"
   ]
  },
  {
   "cell_type": "code",
   "execution_count": 1,
   "id": "486005a4",
   "metadata": {},
   "outputs": [],
   "source": [
    "import numpy as np\n",
    "import pandas as pd\n",
    "import matplotlib.pyplot as plt\n",
    "\n",
    "from sklearn.svm import SVC\n",
    "from sklearn.pipeline import Pipeline\n",
    "from sklearn.preprocessing import StandardScaler\n",
    "from sklearn.ensemble import RandomForestClassifier\n",
    "from sklearn.model_selection import GridSearchCV, train_test_split, KFold\n",
    "from sklearn.metrics import accuracy_score, f1_score, precision_score, recall_score, classification_report\n",
    "from sklearn.metrics import roc_curve, auc, precision_recall_curve\n",
    "from sklearn.metrics import plot_roc_curve, plot_precision_recall_curve"
   ]
  },
  {
   "cell_type": "markdown",
   "id": "2c66fe7c",
   "metadata": {},
   "source": [
    "### Funcções Auxiliares"
   ]
  },
  {
   "cell_type": "code",
   "execution_count": 2,
   "id": "72613845",
   "metadata": {},
   "outputs": [],
   "source": [
    "def show_metrics(teste_y, pred):\n",
    "    print(f'Acurácia:  {accuracy_score(teste_y, pred)*100:.2f}%')\n",
    "    print(f'Revocação: {recall_score(teste_y, pred)*100:.2f}%')\n",
    "    print(f'Precisão:  {precision_score(teste_y, pred)*100:.2f}%')\n",
    "    print(f'F1-score:  {f1_score(teste_y, pred)*100:.2f}%')\n",
    "    print('\\nClassfication Report:')\n",
    "    print(classification_report(teste_y, pred_svc))\n",
    "    \n",
    "def show_curves(model, teste_x, teste_y):\n",
    "    disp = plot_roc_curve(model, teste_x, teste_y)\n",
    "    disp.ax_.set_title('ROC curve:')\n",
    "\n",
    "    disp = plot_precision_recall_curve(model, teste_x, teste_y)\n",
    "    disp.ax_.set_title('2-class Precision-Recall curve:')"
   ]
  },
  {
   "cell_type": "markdown",
   "id": "f812c7bf",
   "metadata": {},
   "source": [
    "### Carregando os Dados"
   ]
  },
  {
   "cell_type": "code",
   "execution_count": 3,
   "id": "589d3224",
   "metadata": {},
   "outputs": [
    {
     "data": {
      "text/plain": [
       "array([[ 2.01100e+03, -7.09550e+01,  4.22550e+01,  2.40000e+01,\n",
       "         2.40000e+01,  6.32000e-03,  1.80000e+01,  2.31000e+00,\n",
       "         0.00000e+00,  5.38000e-01,  6.57500e+00,  6.52000e+01,\n",
       "         4.09000e+00,  1.00000e+00,  2.96000e+02,  1.53000e+01,\n",
       "         3.96900e+02,  1.00000e+00],\n",
       "       [ 2.02100e+03, -7.09500e+01,  4.22875e+01,  2.16000e+01,\n",
       "         2.16000e+01,  2.73100e-02,  0.00000e+00,  7.07000e+00,\n",
       "         0.00000e+00,  4.69000e-01,  6.42100e+00,  7.89000e+01,\n",
       "         4.96710e+00,  2.00000e+00,  2.42000e+02,  1.78000e+01,\n",
       "         3.96900e+02,  1.00000e+00]])"
      ]
     },
     "execution_count": 3,
     "metadata": {},
     "output_type": "execute_result"
    }
   ],
   "source": [
    "# Leitura dos dados\n",
    "dados = np.genfromtxt('./bostonbin.csv', delimiter=',')\n",
    "\n",
    "# 2 primeiros dados do arquivo\n",
    "dados[:2]"
   ]
  },
  {
   "cell_type": "code",
   "execution_count": 4,
   "id": "976d11f6",
   "metadata": {},
   "outputs": [
    {
     "data": {
      "text/plain": [
       "(506, 18)"
      ]
     },
     "execution_count": 4,
     "metadata": {},
     "output_type": "execute_result"
    }
   ],
   "source": [
    "# Formato total dos nossos dados\n",
    "dados.shape"
   ]
  },
  {
   "cell_type": "markdown",
   "id": "6ca781c1",
   "metadata": {},
   "source": [
    "### Separação do X e y & Conjunto de treino e teste"
   ]
  },
  {
   "cell_type": "code",
   "execution_count": 5,
   "id": "e0550172",
   "metadata": {},
   "outputs": [],
   "source": [
    "np.random.seed(42)\n",
    "\n",
    "# KFold de 10 splits\n",
    "kf = KFold(n_splits=10, shuffle=True)\n",
    "\n",
    "# Separação X e y\n",
    "x = dados[:,:-1]\n",
    "y = dados[:,[-1]]\n",
    "\n",
    "treino_x, teste_x, treino_y, teste_y = train_test_split(x, y, test_size=0.3, stratify=y)"
   ]
  },
  {
   "cell_type": "markdown",
   "id": "143ff1e8",
   "metadata": {},
   "source": [
    "## Support Vector Machine (SVM)"
   ]
  },
  {
   "cell_type": "markdown",
   "id": "5e30468d",
   "metadata": {},
   "source": [
    "#### Espaço dos parâmentros"
   ]
  },
  {
   "cell_type": "code",
   "execution_count": 6,
   "id": "cdbc8adb",
   "metadata": {},
   "outputs": [
    {
     "name": "stdout",
     "output_type": "stream",
     "text": [
      "[0.03125, 0.125, 0.5, 2, 8, 32, 128, 512, 2048, 8192, 32768]\n",
      "[3.0517578125e-05, 6.103515625e-05, 0.0001220703125, 0.000244140625, 0.00048828125, 0.0009765625, 0.001953125, 0.00390625, 0.0078125, 0.015625, 0.03125, 0.0625, 0.125, 0.25, 0.5, 1, 2, 4, 8]\n"
     ]
    }
   ],
   "source": [
    "c = []\n",
    "gamma = []\n",
    "\n",
    "for i in range(-5, 16, 2):\n",
    "    c.append(2**i)\n",
    "\n",
    "for i in range(-15, 4, 1):\n",
    "    gamma.append(2**i)\n",
    "    \n",
    "print(c)\n",
    "print(gamma)"
   ]
  },
  {
   "cell_type": "markdown",
   "id": "07f81186",
   "metadata": {},
   "source": [
    "### Estrutura de Otimização"
   ]
  },
  {
   "cell_type": "code",
   "execution_count": 7,
   "id": "023a4904",
   "metadata": {},
   "outputs": [
    {
     "data": {
      "text/plain": [
       "GridSearchCV(cv=KFold(n_splits=10, random_state=None, shuffle=True),\n",
       "             estimator=Pipeline(steps=[('scaler', StandardScaler()),\n",
       "                                       ('svc', SVC())]),\n",
       "             param_grid={'svc__C': [0.03125, 0.125, 0.5, 2, 8, 32, 128, 512,\n",
       "                                    2048, 8192, 32768],\n",
       "                         'svc__gamma': [3.0517578125e-05, 6.103515625e-05,\n",
       "                                        0.0001220703125, 0.000244140625,\n",
       "                                        0.00048828125, 0.0009765625,\n",
       "                                        0.001953125, 0.00390625, 0.0078125,\n",
       "                                        0.015625, 0.03125, 0.0625, 0.125, 0.25,\n",
       "                                        0.5, 1, 2, 4, 8],\n",
       "                         'svc__kernel': ['rbf']})"
      ]
     },
     "execution_count": 7,
     "metadata": {},
     "output_type": "execute_result"
    }
   ],
   "source": [
    "svc = SVC()\n",
    "\n",
    "pipe_svc = Pipeline(steps=[('scaler', StandardScaler()), ('svc', svc)])\n",
    "\n",
    "svc_params = {\n",
    "    'svc__kernel' : ['rbf'],\n",
    "    'svc__C' : c,\n",
    "    'svc__gamma' : gamma\n",
    "}\n",
    "\n",
    "search_svc = GridSearchCV(pipe_svc, svc_params, cv=kf)\n",
    "search_svc.fit(treino_x, treino_y.ravel())"
   ]
  },
  {
   "cell_type": "markdown",
   "id": "7a02f675",
   "metadata": {},
   "source": [
    "### Melhores Resultados"
   ]
  },
  {
   "cell_type": "code",
   "execution_count": 8,
   "id": "e068696c",
   "metadata": {},
   "outputs": [
    {
     "data": {
      "text/html": [
       "<div>\n",
       "<style scoped>\n",
       "    .dataframe tbody tr th:only-of-type {\n",
       "        vertical-align: middle;\n",
       "    }\n",
       "\n",
       "    .dataframe tbody tr th {\n",
       "        vertical-align: top;\n",
       "    }\n",
       "\n",
       "    .dataframe thead th {\n",
       "        text-align: right;\n",
       "    }\n",
       "</style>\n",
       "<table border=\"1\" class=\"dataframe\">\n",
       "  <thead>\n",
       "    <tr style=\"text-align: right;\">\n",
       "      <th></th>\n",
       "      <th>mean_fit_time</th>\n",
       "      <th>std_fit_time</th>\n",
       "      <th>mean_score_time</th>\n",
       "      <th>std_score_time</th>\n",
       "      <th>param_svc__C</th>\n",
       "      <th>param_svc__gamma</th>\n",
       "      <th>param_svc__kernel</th>\n",
       "      <th>params</th>\n",
       "      <th>split0_test_score</th>\n",
       "      <th>split1_test_score</th>\n",
       "      <th>...</th>\n",
       "      <th>split3_test_score</th>\n",
       "      <th>split4_test_score</th>\n",
       "      <th>split5_test_score</th>\n",
       "      <th>split6_test_score</th>\n",
       "      <th>split7_test_score</th>\n",
       "      <th>split8_test_score</th>\n",
       "      <th>split9_test_score</th>\n",
       "      <th>mean_test_score</th>\n",
       "      <th>std_test_score</th>\n",
       "      <th>rank_test_score</th>\n",
       "    </tr>\n",
       "  </thead>\n",
       "  <tbody>\n",
       "    <tr>\n",
       "      <th>143</th>\n",
       "      <td>0.005900</td>\n",
       "      <td>0.000944</td>\n",
       "      <td>0.001192</td>\n",
       "      <td>0.000402</td>\n",
       "      <td>512</td>\n",
       "      <td>0.03125</td>\n",
       "      <td>rbf</td>\n",
       "      <td>{'svc__C': 512, 'svc__gamma': 0.03125, 'svc__k...</td>\n",
       "      <td>0.888889</td>\n",
       "      <td>0.777778</td>\n",
       "      <td>...</td>\n",
       "      <td>0.916667</td>\n",
       "      <td>0.828571</td>\n",
       "      <td>0.942857</td>\n",
       "      <td>0.885714</td>\n",
       "      <td>0.885714</td>\n",
       "      <td>0.885714</td>\n",
       "      <td>0.828571</td>\n",
       "      <td>0.875714</td>\n",
       "      <td>0.047299</td>\n",
       "      <td>1</td>\n",
       "    </tr>\n",
       "    <tr>\n",
       "      <th>174</th>\n",
       "      <td>0.006300</td>\n",
       "      <td>0.000897</td>\n",
       "      <td>0.000696</td>\n",
       "      <td>0.000456</td>\n",
       "      <td>8192</td>\n",
       "      <td>0.000244</td>\n",
       "      <td>rbf</td>\n",
       "      <td>{'svc__C': 8192, 'svc__gamma': 0.000244140625,...</td>\n",
       "      <td>0.944444</td>\n",
       "      <td>0.833333</td>\n",
       "      <td>...</td>\n",
       "      <td>0.916667</td>\n",
       "      <td>0.771429</td>\n",
       "      <td>0.828571</td>\n",
       "      <td>0.914286</td>\n",
       "      <td>0.914286</td>\n",
       "      <td>0.942857</td>\n",
       "      <td>0.800000</td>\n",
       "      <td>0.875476</td>\n",
       "      <td>0.058893</td>\n",
       "      <td>2</td>\n",
       "    </tr>\n",
       "    <tr>\n",
       "      <th>190</th>\n",
       "      <td>0.005202</td>\n",
       "      <td>0.001181</td>\n",
       "      <td>0.000799</td>\n",
       "      <td>0.000400</td>\n",
       "      <td>32768</td>\n",
       "      <td>0.000031</td>\n",
       "      <td>rbf</td>\n",
       "      <td>{'svc__C': 32768, 'svc__gamma': 3.0517578125e-...</td>\n",
       "      <td>0.944444</td>\n",
       "      <td>0.833333</td>\n",
       "      <td>...</td>\n",
       "      <td>0.888889</td>\n",
       "      <td>0.800000</td>\n",
       "      <td>0.857143</td>\n",
       "      <td>0.885714</td>\n",
       "      <td>0.914286</td>\n",
       "      <td>0.942857</td>\n",
       "      <td>0.771429</td>\n",
       "      <td>0.875476</td>\n",
       "      <td>0.056053</td>\n",
       "      <td>2</td>\n",
       "    </tr>\n",
       "    <tr>\n",
       "      <th>142</th>\n",
       "      <td>0.005991</td>\n",
       "      <td>0.000766</td>\n",
       "      <td>0.001005</td>\n",
       "      <td>0.000441</td>\n",
       "      <td>512</td>\n",
       "      <td>0.015625</td>\n",
       "      <td>rbf</td>\n",
       "      <td>{'svc__C': 512, 'svc__gamma': 0.015625, 'svc__...</td>\n",
       "      <td>0.833333</td>\n",
       "      <td>0.833333</td>\n",
       "      <td>...</td>\n",
       "      <td>0.833333</td>\n",
       "      <td>0.800000</td>\n",
       "      <td>0.942857</td>\n",
       "      <td>0.914286</td>\n",
       "      <td>0.914286</td>\n",
       "      <td>0.914286</td>\n",
       "      <td>0.800000</td>\n",
       "      <td>0.873016</td>\n",
       "      <td>0.055205</td>\n",
       "      <td>4</td>\n",
       "    </tr>\n",
       "    <tr>\n",
       "      <th>124</th>\n",
       "      <td>0.004513</td>\n",
       "      <td>0.000659</td>\n",
       "      <td>0.001089</td>\n",
       "      <td>0.000315</td>\n",
       "      <td>128</td>\n",
       "      <td>0.03125</td>\n",
       "      <td>rbf</td>\n",
       "      <td>{'svc__C': 128, 'svc__gamma': 0.03125, 'svc__k...</td>\n",
       "      <td>0.833333</td>\n",
       "      <td>0.805556</td>\n",
       "      <td>...</td>\n",
       "      <td>0.861111</td>\n",
       "      <td>0.800000</td>\n",
       "      <td>0.942857</td>\n",
       "      <td>0.914286</td>\n",
       "      <td>0.885714</td>\n",
       "      <td>0.914286</td>\n",
       "      <td>0.828571</td>\n",
       "      <td>0.873016</td>\n",
       "      <td>0.052078</td>\n",
       "      <td>4</td>\n",
       "    </tr>\n",
       "  </tbody>\n",
       "</table>\n",
       "<p>5 rows × 21 columns</p>\n",
       "</div>"
      ],
      "text/plain": [
       "     mean_fit_time  std_fit_time  mean_score_time  std_score_time  \\\n",
       "143       0.005900      0.000944         0.001192        0.000402   \n",
       "174       0.006300      0.000897         0.000696        0.000456   \n",
       "190       0.005202      0.001181         0.000799        0.000400   \n",
       "142       0.005991      0.000766         0.001005        0.000441   \n",
       "124       0.004513      0.000659         0.001089        0.000315   \n",
       "\n",
       "    param_svc__C param_svc__gamma param_svc__kernel  \\\n",
       "143          512          0.03125               rbf   \n",
       "174         8192         0.000244               rbf   \n",
       "190        32768         0.000031               rbf   \n",
       "142          512         0.015625               rbf   \n",
       "124          128          0.03125               rbf   \n",
       "\n",
       "                                                params  split0_test_score  \\\n",
       "143  {'svc__C': 512, 'svc__gamma': 0.03125, 'svc__k...           0.888889   \n",
       "174  {'svc__C': 8192, 'svc__gamma': 0.000244140625,...           0.944444   \n",
       "190  {'svc__C': 32768, 'svc__gamma': 3.0517578125e-...           0.944444   \n",
       "142  {'svc__C': 512, 'svc__gamma': 0.015625, 'svc__...           0.833333   \n",
       "124  {'svc__C': 128, 'svc__gamma': 0.03125, 'svc__k...           0.833333   \n",
       "\n",
       "     split1_test_score  ...  split3_test_score  split4_test_score  \\\n",
       "143           0.777778  ...           0.916667           0.828571   \n",
       "174           0.833333  ...           0.916667           0.771429   \n",
       "190           0.833333  ...           0.888889           0.800000   \n",
       "142           0.833333  ...           0.833333           0.800000   \n",
       "124           0.805556  ...           0.861111           0.800000   \n",
       "\n",
       "     split5_test_score  split6_test_score  split7_test_score  \\\n",
       "143           0.942857           0.885714           0.885714   \n",
       "174           0.828571           0.914286           0.914286   \n",
       "190           0.857143           0.885714           0.914286   \n",
       "142           0.942857           0.914286           0.914286   \n",
       "124           0.942857           0.914286           0.885714   \n",
       "\n",
       "     split8_test_score  split9_test_score  mean_test_score  std_test_score  \\\n",
       "143           0.885714           0.828571         0.875714        0.047299   \n",
       "174           0.942857           0.800000         0.875476        0.058893   \n",
       "190           0.942857           0.771429         0.875476        0.056053   \n",
       "142           0.914286           0.800000         0.873016        0.055205   \n",
       "124           0.914286           0.828571         0.873016        0.052078   \n",
       "\n",
       "     rank_test_score  \n",
       "143                1  \n",
       "174                2  \n",
       "190                2  \n",
       "142                4  \n",
       "124                4  \n",
       "\n",
       "[5 rows x 21 columns]"
      ]
     },
     "execution_count": 8,
     "metadata": {},
     "output_type": "execute_result"
    }
   ],
   "source": [
    "resultados_svc = pd.DataFrame(search_svc.cv_results_).sort_values(\"mean_test_score\", ascending=False).head()\n",
    "resultados_svc"
   ]
  },
  {
   "cell_type": "markdown",
   "id": "e86c2893",
   "metadata": {},
   "source": [
    "#### Melhores Parâmetros"
   ]
  },
  {
   "cell_type": "code",
   "execution_count": 9,
   "id": "ee1ae3c9",
   "metadata": {},
   "outputs": [
    {
     "data": {
      "text/plain": [
       "{'svc__C': 512, 'svc__gamma': 0.03125, 'svc__kernel': 'rbf'}"
      ]
     },
     "execution_count": 9,
     "metadata": {},
     "output_type": "execute_result"
    }
   ],
   "source": [
    "search_svc.best_params_"
   ]
  },
  {
   "cell_type": "markdown",
   "id": "eb213d51",
   "metadata": {},
   "source": [
    "#### Melhor Modelo"
   ]
  },
  {
   "cell_type": "code",
   "execution_count": 10,
   "id": "4cbfd1b7",
   "metadata": {},
   "outputs": [
    {
     "data": {
      "text/plain": [
       "Pipeline(steps=[('scaler', StandardScaler()),\n",
       "                ('svc', SVC(C=512, gamma=0.03125))])"
      ]
     },
     "execution_count": 10,
     "metadata": {},
     "output_type": "execute_result"
    }
   ],
   "source": [
    "best_model_svc = search_svc.best_estimator_\n",
    "best_model_svc"
   ]
  },
  {
   "cell_type": "markdown",
   "id": "e757d939",
   "metadata": {},
   "source": [
    "### Treinamento com todos os dados"
   ]
  },
  {
   "cell_type": "code",
   "execution_count": 11,
   "id": "44a55b57",
   "metadata": {},
   "outputs": [],
   "source": [
    "best_model_svc.fit(treino_x, treino_y.ravel())\n",
    "pred_svc = best_model_svc.predict(teste_x)"
   ]
  },
  {
   "cell_type": "markdown",
   "id": "def26bf3",
   "metadata": {},
   "source": [
    "### Apresentação das Métricas: SVC"
   ]
  },
  {
   "cell_type": "code",
   "execution_count": 12,
   "id": "1b0a980f",
   "metadata": {
    "scrolled": true
   },
   "outputs": [
    {
     "name": "stdout",
     "output_type": "stream",
     "text": [
      "Acurácia:  86.84%\n",
      "Revocação: 88.24%\n",
      "Precisão:  88.24%\n",
      "F1-score:  88.24%\n",
      "\n",
      "Classfication Report:\n",
      "              precision    recall  f1-score   support\n",
      "\n",
      "         0.0       0.85      0.85      0.85        67\n",
      "         1.0       0.88      0.88      0.88        85\n",
      "\n",
      "    accuracy                           0.87       152\n",
      "   macro avg       0.87      0.87      0.87       152\n",
      "weighted avg       0.87      0.87      0.87       152\n",
      "\n"
     ]
    }
   ],
   "source": [
    "show_metrics(teste_y, pred_svc)"
   ]
  },
  {
   "cell_type": "code",
   "execution_count": 13,
   "id": "a96b1793",
   "metadata": {},
   "outputs": [
    {
     "data": {
      "image/png": "[encoded data removed]",
      "text/plain": [
       "<Figure size 432x288 with 1 Axes>"
      ]
     },
     "metadata": {
      "needs_background": "light"
     },
     "output_type": "display_data"
    },
    {
     "data": {
      "image/png": "[encoded data removed]",
      "text/plain": [
       "<Figure size 432x288 with 1 Axes>"
      ]
     },
     "metadata": {
      "needs_background": "light"
     },
     "output_type": "display_data"
    }
   ],
   "source": [
    "show_curves(best_model_svc, teste_x, teste_y)"
   ]
  },
  {
   "cell_type": "markdown",
   "id": "a43ae196",
   "metadata": {},
   "source": [
    "## Random Forest"
   ]
  },
  {
   "cell_type": "markdown",
   "id": "6cefbc29",
   "metadata": {},
   "source": [
    "#### Espaço dos parâmentros"
   ]
  },
  {
   "cell_type": "code",
   "execution_count": 14,
   "id": "85ab51c0",
   "metadata": {},
   "outputs": [
    {
     "name": "stdout",
     "output_type": "stream",
     "text": [
      "[10, 20, 30, 40, 50, 60, 70, 80, 90, 100, 110, 120, 130, 140, 150, 160, 170, 180, 190, 200]\n",
      "[2, 4, 6, 8, None]\n"
     ]
    }
   ],
   "source": [
    "n_est = []\n",
    "max_d = []\n",
    "\n",
    "for i in range(10, 210, 10):\n",
    "    n_est.append(i)\n",
    "\n",
    "for i in range(2, 10, 2):\n",
    "    max_d.append(i)\n",
    "max_d.append(None)\n",
    "\n",
    "print(n_est)\n",
    "print(max_d)"
   ]
  },
  {
   "cell_type": "markdown",
   "id": "263c19ee",
   "metadata": {},
   "source": [
    "### Estrutura de Otimização"
   ]
  },
  {
   "cell_type": "code",
   "execution_count": 15,
   "id": "4be13c32",
   "metadata": {},
   "outputs": [
    {
     "data": {
      "text/plain": [
       "GridSearchCV(cv=KFold(n_splits=10, random_state=None, shuffle=True),\n",
       "             estimator=Pipeline(steps=[('scaler', StandardScaler()),\n",
       "                                       ('forest', RandomForestClassifier())]),\n",
       "             param_grid={'forest__max_depth': [2, 4, 6, 8, None],\n",
       "                         'forest__n_estimators': [10, 20, 30, 40, 50, 60, 70,\n",
       "                                                  80, 90, 100, 110, 120, 130,\n",
       "                                                  140, 150, 160, 170, 180, 190,\n",
       "                                                  200]})"
      ]
     },
     "execution_count": 15,
     "metadata": {},
     "output_type": "execute_result"
    }
   ],
   "source": [
    "random_forest = RandomForestClassifier()\n",
    "\n",
    "pipe_rf = Pipeline(steps=[('scaler', StandardScaler()), ('forest', random_forest)])\n",
    "\n",
    "random_forest_params = {\n",
    "    'forest__n_estimators' : n_est,\n",
    "    'forest__max_depth' : max_d\n",
    "}\n",
    "\n",
    "search_rf = GridSearchCV(pipe_rf, random_forest_params, cv=kf)\n",
    "search_rf.fit(treino_x, treino_y.ravel())"
   ]
  },
  {
   "cell_type": "markdown",
   "id": "df57d05f",
   "metadata": {},
   "source": [
    "### Melhores Resultados"
   ]
  },
  {
   "cell_type": "code",
   "execution_count": 16,
   "id": "cc825911",
   "metadata": {},
   "outputs": [
    {
     "data": {
      "text/html": [
       "<div>\n",
       "<style scoped>\n",
       "    .dataframe tbody tr th:only-of-type {\n",
       "        vertical-align: middle;\n",
       "    }\n",
       "\n",
       "    .dataframe tbody tr th {\n",
       "        vertical-align: top;\n",
       "    }\n",
       "\n",
       "    .dataframe thead th {\n",
       "        text-align: right;\n",
       "    }\n",
       "</style>\n",
       "<table border=\"1\" class=\"dataframe\">\n",
       "  <thead>\n",
       "    <tr style=\"text-align: right;\">\n",
       "      <th></th>\n",
       "      <th>mean_fit_time</th>\n",
       "      <th>std_fit_time</th>\n",
       "      <th>mean_score_time</th>\n",
       "      <th>std_score_time</th>\n",
       "      <th>param_forest__max_depth</th>\n",
       "      <th>param_forest__n_estimators</th>\n",
       "      <th>params</th>\n",
       "      <th>split0_test_score</th>\n",
       "      <th>split1_test_score</th>\n",
       "      <th>split2_test_score</th>\n",
       "      <th>split3_test_score</th>\n",
       "      <th>split4_test_score</th>\n",
       "      <th>split5_test_score</th>\n",
       "      <th>split6_test_score</th>\n",
       "      <th>split7_test_score</th>\n",
       "      <th>split8_test_score</th>\n",
       "      <th>split9_test_score</th>\n",
       "      <th>mean_test_score</th>\n",
       "      <th>std_test_score</th>\n",
       "      <th>rank_test_score</th>\n",
       "    </tr>\n",
       "  </thead>\n",
       "  <tbody>\n",
       "    <tr>\n",
       "      <th>82</th>\n",
       "      <td>0.046899</td>\n",
       "      <td>0.001644</td>\n",
       "      <td>0.003297</td>\n",
       "      <td>0.000630</td>\n",
       "      <td>None</td>\n",
       "      <td>30</td>\n",
       "      <td>{'forest__max_depth': None, 'forest__n_estimat...</td>\n",
       "      <td>0.972222</td>\n",
       "      <td>0.861111</td>\n",
       "      <td>0.888889</td>\n",
       "      <td>0.888889</td>\n",
       "      <td>0.942857</td>\n",
       "      <td>0.857143</td>\n",
       "      <td>0.885714</td>\n",
       "      <td>0.828571</td>\n",
       "      <td>0.914286</td>\n",
       "      <td>0.885714</td>\n",
       "      <td>0.892540</td>\n",
       "      <td>0.039757</td>\n",
       "      <td>1</td>\n",
       "    </tr>\n",
       "    <tr>\n",
       "      <th>85</th>\n",
       "      <td>0.091183</td>\n",
       "      <td>0.003217</td>\n",
       "      <td>0.006116</td>\n",
       "      <td>0.001134</td>\n",
       "      <td>None</td>\n",
       "      <td>60</td>\n",
       "      <td>{'forest__max_depth': None, 'forest__n_estimat...</td>\n",
       "      <td>0.916667</td>\n",
       "      <td>0.888889</td>\n",
       "      <td>0.888889</td>\n",
       "      <td>0.833333</td>\n",
       "      <td>0.971429</td>\n",
       "      <td>0.828571</td>\n",
       "      <td>0.885714</td>\n",
       "      <td>0.857143</td>\n",
       "      <td>0.857143</td>\n",
       "      <td>0.885714</td>\n",
       "      <td>0.881349</td>\n",
       "      <td>0.039719</td>\n",
       "      <td>2</td>\n",
       "    </tr>\n",
       "    <tr>\n",
       "      <th>75</th>\n",
       "      <td>0.237399</td>\n",
       "      <td>0.004602</td>\n",
       "      <td>0.014396</td>\n",
       "      <td>0.000496</td>\n",
       "      <td>8</td>\n",
       "      <td>160</td>\n",
       "      <td>{'forest__max_depth': 8, 'forest__n_estimators...</td>\n",
       "      <td>0.916667</td>\n",
       "      <td>0.861111</td>\n",
       "      <td>0.888889</td>\n",
       "      <td>0.888889</td>\n",
       "      <td>0.942857</td>\n",
       "      <td>0.800000</td>\n",
       "      <td>0.914286</td>\n",
       "      <td>0.828571</td>\n",
       "      <td>0.857143</td>\n",
       "      <td>0.885714</td>\n",
       "      <td>0.878413</td>\n",
       "      <td>0.040695</td>\n",
       "      <td>3</td>\n",
       "    </tr>\n",
       "    <tr>\n",
       "      <th>88</th>\n",
       "      <td>0.147894</td>\n",
       "      <td>0.010337</td>\n",
       "      <td>0.008917</td>\n",
       "      <td>0.000837</td>\n",
       "      <td>None</td>\n",
       "      <td>90</td>\n",
       "      <td>{'forest__max_depth': None, 'forest__n_estimat...</td>\n",
       "      <td>0.916667</td>\n",
       "      <td>0.861111</td>\n",
       "      <td>0.861111</td>\n",
       "      <td>0.861111</td>\n",
       "      <td>0.942857</td>\n",
       "      <td>0.800000</td>\n",
       "      <td>0.885714</td>\n",
       "      <td>0.885714</td>\n",
       "      <td>0.857143</td>\n",
       "      <td>0.885714</td>\n",
       "      <td>0.875714</td>\n",
       "      <td>0.036335</td>\n",
       "      <td>4</td>\n",
       "    </tr>\n",
       "    <tr>\n",
       "      <th>63</th>\n",
       "      <td>0.060601</td>\n",
       "      <td>0.002969</td>\n",
       "      <td>0.004094</td>\n",
       "      <td>0.000535</td>\n",
       "      <td>8</td>\n",
       "      <td>40</td>\n",
       "      <td>{'forest__max_depth': 8, 'forest__n_estimators...</td>\n",
       "      <td>0.916667</td>\n",
       "      <td>0.861111</td>\n",
       "      <td>0.861111</td>\n",
       "      <td>0.888889</td>\n",
       "      <td>0.971429</td>\n",
       "      <td>0.857143</td>\n",
       "      <td>0.914286</td>\n",
       "      <td>0.828571</td>\n",
       "      <td>0.800000</td>\n",
       "      <td>0.857143</td>\n",
       "      <td>0.875635</td>\n",
       "      <td>0.046445</td>\n",
       "      <td>5</td>\n",
       "    </tr>\n",
       "  </tbody>\n",
       "</table>\n",
       "</div>"
      ],
      "text/plain": [
       "    mean_fit_time  std_fit_time  mean_score_time  std_score_time  \\\n",
       "82       0.046899      0.001644         0.003297        0.000630   \n",
       "85       0.091183      0.003217         0.006116        0.001134   \n",
       "75       0.237399      0.004602         0.014396        0.000496   \n",
       "88       0.147894      0.010337         0.008917        0.000837   \n",
       "63       0.060601      0.002969         0.004094        0.000535   \n",
       "\n",
       "   param_forest__max_depth param_forest__n_estimators  \\\n",
       "82                    None                         30   \n",
       "85                    None                         60   \n",
       "75                       8                        160   \n",
       "88                    None                         90   \n",
       "63                       8                         40   \n",
       "\n",
       "                                               params  split0_test_score  \\\n",
       "82  {'forest__max_depth': None, 'forest__n_estimat...           0.972222   \n",
       "85  {'forest__max_depth': None, 'forest__n_estimat...           0.916667   \n",
       "75  {'forest__max_depth': 8, 'forest__n_estimators...           0.916667   \n",
       "88  {'forest__max_depth': None, 'forest__n_estimat...           0.916667   \n",
       "63  {'forest__max_depth': 8, 'forest__n_estimators...           0.916667   \n",
       "\n",
       "    split1_test_score  split2_test_score  split3_test_score  \\\n",
       "82           0.861111           0.888889           0.888889   \n",
       "85           0.888889           0.888889           0.833333   \n",
       "75           0.861111           0.888889           0.888889   \n",
       "88           0.861111           0.861111           0.861111   \n",
       "63           0.861111           0.861111           0.888889   \n",
       "\n",
       "    split4_test_score  split5_test_score  split6_test_score  \\\n",
       "82           0.942857           0.857143           0.885714   \n",
       "85           0.971429           0.828571           0.885714   \n",
       "75           0.942857           0.800000           0.914286   \n",
       "88           0.942857           0.800000           0.885714   \n",
       "63           0.971429           0.857143           0.914286   \n",
       "\n",
       "    split7_test_score  split8_test_score  split9_test_score  mean_test_score  \\\n",
       "82           0.828571           0.914286           0.885714         0.892540   \n",
       "85           0.857143           0.857143           0.885714         0.881349   \n",
       "75           0.828571           0.857143           0.885714         0.878413   \n",
       "88           0.885714           0.857143           0.885714         0.875714   \n",
       "63           0.828571           0.800000           0.857143         0.875635   \n",
       "\n",
       "    std_test_score  rank_test_score  \n",
       "82        0.039757                1  \n",
       "85        0.039719                2  \n",
       "75        0.040695                3  \n",
       "88        0.036335                4  \n",
       "63        0.046445                5  "
      ]
     },
     "execution_count": 16,
     "metadata": {},
     "output_type": "execute_result"
    }
   ],
   "source": [
    "resultados_rf = pd.DataFrame(search_rf.cv_results_).sort_values(\"mean_test_score\", ascending=False).head()\n",
    "resultados_rf"
   ]
  },
  {
   "cell_type": "markdown",
   "id": "c0b4d321",
   "metadata": {},
   "source": [
    "#### Melhores Parâmetros"
   ]
  },
  {
   "cell_type": "code",
   "execution_count": 17,
   "id": "632f127e",
   "metadata": {},
   "outputs": [
    {
     "data": {
      "text/plain": [
       "{'forest__max_depth': None, 'forest__n_estimators': 30}"
      ]
     },
     "execution_count": 17,
     "metadata": {},
     "output_type": "execute_result"
    }
   ],
   "source": [
    "search_rf.best_params_"
   ]
  },
  {
   "cell_type": "markdown",
   "id": "b7aa8b75",
   "metadata": {},
   "source": [
    "#### Melhor Modelo"
   ]
  },
  {
   "cell_type": "code",
   "execution_count": 18,
   "id": "6f74c5b8",
   "metadata": {},
   "outputs": [
    {
     "data": {
      "text/plain": [
       "Pipeline(steps=[('scaler', StandardScaler()),\n",
       "                ('forest', RandomForestClassifier(n_estimators=30))])"
      ]
     },
     "execution_count": 18,
     "metadata": {},
     "output_type": "execute_result"
    }
   ],
   "source": [
    "best_model_rf = search_rf.best_estimator_\n",
    "best_model_rf"
   ]
  },
  {
   "cell_type": "markdown",
   "id": "0b8b18b0",
   "metadata": {},
   "source": [
    "### Treinamento com todos os dados"
   ]
  },
  {
   "cell_type": "code",
   "execution_count": 19,
   "id": "2dd8a0de",
   "metadata": {},
   "outputs": [],
   "source": [
    "best_model_rf.fit(treino_x, treino_y.ravel())\n",
    "pred_rf = best_model_rf.predict(teste_x)"
   ]
  },
  {
   "cell_type": "markdown",
   "id": "b77387d2",
   "metadata": {},
   "source": [
    "### Apresentação das Métricas: Random Forest"
   ]
  },
  {
   "cell_type": "code",
   "execution_count": 20,
   "id": "8389cd57",
   "metadata": {},
   "outputs": [
    {
     "name": "stdout",
     "output_type": "stream",
     "text": [
      "Acurácia:  85.53%\n",
      "Revocação: 84.71%\n",
      "Precisão:  88.89%\n",
      "F1-score:  86.75%\n",
      "\n",
      "Classfication Report:\n",
      "              precision    recall  f1-score   support\n",
      "\n",
      "         0.0       0.85      0.85      0.85        67\n",
      "         1.0       0.88      0.88      0.88        85\n",
      "\n",
      "    accuracy                           0.87       152\n",
      "   macro avg       0.87      0.87      0.87       152\n",
      "weighted avg       0.87      0.87      0.87       152\n",
      "\n"
     ]
    }
   ],
   "source": [
    "show_metrics(teste_y, pred_rf)"
   ]
  },
  {
   "cell_type": "code",
   "execution_count": 21,
   "id": "71fa6fca",
   "metadata": {
    "scrolled": false
   },
   "outputs": [
    {
     "data": {
      "image/png": "[encoded data removed]",
      "text/plain": [
       "<Figure size 432x288 with 1 Axes>"
      ]
     },
     "metadata": {
      "needs_background": "light"
     },
     "output_type": "display_data"
    },
    {
     "data": {
      "image/png": "[encoded data removed]",
      "text/plain": [
       "<Figure size 432x288 with 1 Axes>"
      ]
     },
     "metadata": {
      "needs_background": "light"
     },
     "output_type": "display_data"
    }
   ],
   "source": [
    "show_curves(best_model_rf, teste_x, teste_y)"
   ]
  }
 ],
 "metadata": {
  "kernelspec": {
   "display_name": "Python 3",
   "language": "python",
   "name": "python3"
  },
  "language_info": {
   "codemirror_mode": {
    "name": "ipython",
    "version": 3
   },
   "file_extension": ".py",
   "mimetype": "text/x-python",
   "name": "python",
   "nbconvert_exporter": "python",
   "pygments_lexer": "ipython3",
   "version": "3.8.8"
  }
 },
 "nbformat": 4,
 "nbformat_minor": 5
}
